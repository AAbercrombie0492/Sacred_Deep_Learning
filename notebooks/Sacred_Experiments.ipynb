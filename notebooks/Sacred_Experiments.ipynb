{
 "cells": [
  {
   "cell_type": "markdown",
   "metadata": {},
   "source": [
    "# Run experiments and visualize in Tensorboard\n",
    "\n",
    "Shows how to utilize the scripts in the PROJ_ROOT/src/model/ directory to systematically test CNN architectures."
   ]
  },
  {
   "cell_type": "markdown",
   "metadata": {},
   "source": [
    "# Setup"
   ]
  },
  {
   "cell_type": "markdown",
   "metadata": {},
   "source": [
    "```bash\n",
    "$ brew install mongodb # install mongodb\n",
    "$ mkdir mongo # create local directory for mongodb to write to\n",
    "$ mongod --dbpath mongo # start mongodb server and tell it to write to local folder mongo\n",
    "$ pip install git+https://github.com/IDSIA/sacred.git # install latest version of sacred\n",
    "$ pip install sacredboard # install sacredboard\n",
    "$ sacredboard # start a default sacredboard server\n",
    "$ sacredboard experiment5_architectures # start a sacredboard server that references a mongodb table\n",
    "\n",
    "```\n"
   ]
  },
  {
   "cell_type": "markdown",
   "metadata": {},
   "source": [
    "# Import Dependencies"
   ]
  },
  {
   "cell_type": "code",
   "execution_count": 1,
   "metadata": {
    "collapsed": false
   },
   "outputs": [
    {
     "name": "stderr",
     "output_type": "stream",
     "text": [
      "Using TensorFlow backend.\n"
     ]
    }
   ],
   "source": [
    "# -*- coding: utf-8 -*-\n",
    "# Load the \"autoreload\" extension\n",
    "%load_ext autoreload\n",
    "\n",
    "# always reload modules marked with \"%aimport\"\n",
    "%autoreload 1\n",
    "\n",
    "import os\n",
    "import sys\n",
    "import pandas as pd\n",
    "import numpy as np\n",
    "import matplotlib.pyplot as plt\n",
    "from tqdm import tqdm\n",
    "%matplotlib inline\n",
    "pd.set_option(\"max_columns\", None)\n",
    "import logging\n",
    "logging.getLogger(\"tensorflow\").setLevel(logging.WARNING)\n",
    "\n",
    "PROJ_ROOT = os.pardir\n",
    "\n",
    "# add local python functions\n",
    "sys.path.append(os.path.join(PROJ_ROOT, \"src\"))\n",
    "sys.path.append(os.path.join(PROJ_ROOT, \"src\", \"model\"))\n",
    "\n",
    "%aimport callbacks\n",
    "from callbacks import *\n",
    "\n",
    "%aimport models\n",
    "from models import *\n",
    "\n",
    "%aimport run_experiment\n",
    "from run_experiment import *\n",
    "\n",
    "%aimport trainer\n",
    "from trainer import *\n",
    "\n",
    "%aimport image_utilities\n",
    "from image_utilities import load_images_from_directory"
   ]
  },
  {
   "cell_type": "markdown",
   "metadata": {},
   "source": [
    "# Runs several architectures on a small number of samples.\n",
    "\n",
    "Experiment results are saved in a mongodb table called 'experiment5_architectures'"
   ]
  },
  {
   "cell_type": "code",
   "execution_count": 2,
   "metadata": {
    "collapsed": false,
    "scrolled": false
   },
   "outputs": [
    {
     "name": "stderr",
     "output_type": "stream",
     "text": [
      "INFO - trainer=MLPTrainer+loss=categorical_crossentropy+metric=f1+result_mode=max+epochs=10+test_size=0.33+n_samples=10+optimizer=nadam+PROJ_ROOT=/Users/AnthonyAbercrombie/PowerScout/PS_shading_model/ - Running command 'main'\n",
      "INFO - trainer=MLPTrainer+loss=categorical_crossentropy+metric=f1+result_mode=max+epochs=10+test_size=0.33+n_samples=10+optimizer=nadam+PROJ_ROOT=/Users/AnthonyAbercrombie/PowerScout/PS_shading_model/ - Started run with ID \"14\"\n",
      "100%|██████████| 10/10 [00:00<00:00, 42.56it/s]\n",
      "100%|██████████| 10/10 [00:00<00:00, 46.16it/s]\n"
     ]
    },
    {
     "name": "stdout",
     "output_type": "stream",
     "text": [
      "(None, 224, 224, 3)\n",
      "_________________________________________________________________\n",
      "Layer (type)                 Output Shape              Param #   \n",
      "=================================================================\n",
      "flatten_1 (Flatten)          (None, 150528)            0         \n",
      "_________________________________________________________________\n",
      "dense_1 (Dense)              (None, 128)               19267712  \n",
      "_________________________________________________________________\n",
      "dense_2 (Dense)              (None, 2)                 258       \n",
      "_________________________________________________________________\n",
      "activation_1 (Activation)    (None, 2)                 0         \n",
      "=================================================================\n",
      "Total params: 19,267,970.0\n",
      "Trainable params: 19,267,970.0\n",
      "Non-trainable params: 0.0\n",
      "_________________________________________________________________\n",
      "Train on 11 samples, validate on 2 samples\n",
      "INFO:tensorflow:Summary name dense_1/kernel:0 is illegal; using dense_1/kernel_0 instead.\n"
     ]
    },
    {
     "name": "stderr",
     "output_type": "stream",
     "text": [
      "INFO - tensorflow - Summary name dense_1/kernel:0 is illegal; using dense_1/kernel_0 instead.\n"
     ]
    },
    {
     "name": "stdout",
     "output_type": "stream",
     "text": [
      "INFO:tensorflow:Summary name dense_1/bias:0 is illegal; using dense_1/bias_0 instead.\n"
     ]
    },
    {
     "name": "stderr",
     "output_type": "stream",
     "text": [
      "INFO - tensorflow - Summary name dense_1/bias:0 is illegal; using dense_1/bias_0 instead.\n"
     ]
    },
    {
     "name": "stdout",
     "output_type": "stream",
     "text": [
      "INFO:tensorflow:Summary name dense_2/kernel:0 is illegal; using dense_2/kernel_0 instead.\n"
     ]
    },
    {
     "name": "stderr",
     "output_type": "stream",
     "text": [
      "INFO - tensorflow - Summary name dense_2/kernel:0 is illegal; using dense_2/kernel_0 instead.\n"
     ]
    },
    {
     "name": "stdout",
     "output_type": "stream",
     "text": [
      "INFO:tensorflow:Summary name dense_2/bias:0 is illegal; using dense_2/bias_0 instead.\n"
     ]
    },
    {
     "name": "stderr",
     "output_type": "stream",
     "text": [
      "INFO - tensorflow - Summary name dense_2/bias:0 is illegal; using dense_2/bias_0 instead.\n"
     ]
    },
    {
     "name": "stdout",
     "output_type": "stream",
     "text": [
      "Epoch 1/10\n",
      "11/11 [==============================] - 1s - loss: 5.0432 - acc: 0.6364 - val_loss: 8.0590 - val_acc: 0.5000\n",
      "Epoch 2/10\n",
      "11/11 [==============================] - 1s - loss: 7.3264 - acc: 0.5455 - val_loss: 8.0590 - val_acc: 0.5000\n",
      "Epoch 3/10\n",
      "11/11 [==============================] - 1s - loss: 7.3264 - acc: 0.5455 - val_loss: 8.0590 - val_acc: 0.5000\n",
      "Epoch 4/10\n",
      "11/11 [==============================] - 1s - loss: 7.3264 - acc: 0.5455 - val_loss: 8.0590 - val_acc: 0.5000\n",
      "Epoch 5/10\n",
      "11/11 [==============================] - 1s - loss: 7.3264 - acc: 0.5455 - val_loss: 8.0590 - val_acc: 0.5000\n"
     ]
    },
    {
     "name": "stderr",
     "output_type": "stream",
     "text": [
      "ERROR - trainer=MLPTrainer+loss=categorical_crossentropy+metric=f1+result_mode=max+epochs=10+test_size=0.33+n_samples=10+optimizer=nadam+PROJ_ROOT=/Users/AnthonyAbercrombie/PowerScout/PS_shading_model/ - Failed after 0:00:09!\n"
     ]
    },
    {
     "ename": "KeyError",
     "evalue": "'f1'",
     "output_type": "error",
     "traceback": [
      "\u001b[0;31m----------------------------------------------------------------------\u001b[0m",
      "\u001b[0;31mKeyError\u001b[0m                             Traceback (most recent call last)",
      "\u001b[0;32m<ipython-input-2-3052ca8a09c2>\u001b[0m in \u001b[0;36m<module>\u001b[0;34m()\u001b[0m\n\u001b[1;32m     26\u001b[0m \u001b[0;34m\u001b[0m\u001b[0m\n\u001b[1;32m     27\u001b[0m     \u001b[0mname\u001b[0m \u001b[0;34m=\u001b[0m \u001b[0;34m'+'\u001b[0m\u001b[0;34m.\u001b[0m\u001b[0mjoin\u001b[0m\u001b[0;34m(\u001b[0m\u001b[0;34m'{}={}'\u001b[0m\u001b[0;34m.\u001b[0m\u001b[0mformat\u001b[0m\u001b[0;34m(\u001b[0m\u001b[0mkey\u001b[0m\u001b[0;34m,\u001b[0m \u001b[0mvalue\u001b[0m\u001b[0;34m)\u001b[0m \u001b[0;32mfor\u001b[0m \u001b[0mkey\u001b[0m\u001b[0;34m,\u001b[0m \u001b[0mvalue\u001b[0m \u001b[0;32min\u001b[0m \u001b[0mC\u001b[0m\u001b[0;34m.\u001b[0m\u001b[0mitems\u001b[0m\u001b[0;34m(\u001b[0m\u001b[0;34m)\u001b[0m\u001b[0;34m)\u001b[0m\u001b[0;34m\u001b[0m\u001b[0m\n\u001b[0;32m---> 28\u001b[0;31m     \u001b[0mrun\u001b[0m \u001b[0;34m=\u001b[0m \u001b[0mex\u001b[0m\u001b[0;34m.\u001b[0m\u001b[0mrun\u001b[0m\u001b[0;34m(\u001b[0m\u001b[0mconfig_updates\u001b[0m\u001b[0;34m=\u001b[0m\u001b[0mC\u001b[0m\u001b[0;34m,\u001b[0m \u001b[0moptions\u001b[0m\u001b[0;34m=\u001b[0m\u001b[0;34m{\u001b[0m\u001b[0;34m'--name'\u001b[0m\u001b[0;34m:\u001b[0m \u001b[0mname\u001b[0m\u001b[0;34m}\u001b[0m\u001b[0;34m)\u001b[0m\u001b[0;34m\u001b[0m\u001b[0m\n\u001b[0m\u001b[1;32m     29\u001b[0m \u001b[0;31m#     run = ex.run(config_updates={'trainer':trainer})\u001b[0m\u001b[0;34m\u001b[0m\u001b[0;34m\u001b[0m\u001b[0m\n\u001b[1;32m     30\u001b[0m \u001b[0;31m#     run = ex.run(config_updates=C)\u001b[0m\u001b[0;34m\u001b[0m\u001b[0;34m\u001b[0m\u001b[0m\n",
      "\u001b[0;32m/Users/AnthonyAbercrombie/anaconda/envs/dl/lib/python3.6/site-packages/sacred/experiment.py\u001b[0m in \u001b[0;36mrun\u001b[0;34m(self, command_name, config_updates, named_configs, meta_info, options)\u001b[0m\n\u001b[1;32m    185\u001b[0m         run = self._create_run(command_name, config_updates, named_configs,\n\u001b[1;32m    186\u001b[0m                                meta_info, options)\n\u001b[0;32m--> 187\u001b[0;31m         \u001b[0mrun\u001b[0m\u001b[0;34m(\u001b[0m\u001b[0;34m)\u001b[0m\u001b[0;34m\u001b[0m\u001b[0m\n\u001b[0m\u001b[1;32m    188\u001b[0m         \u001b[0;32mreturn\u001b[0m \u001b[0mrun\u001b[0m\u001b[0;34m\u001b[0m\u001b[0m\n\u001b[1;32m    189\u001b[0m \u001b[0;34m\u001b[0m\u001b[0m\n",
      "\u001b[0;32m/Users/AnthonyAbercrombie/anaconda/envs/dl/lib/python3.6/site-packages/sacred/run.py\u001b[0m in \u001b[0;36m__call__\u001b[0;34m(self, *args)\u001b[0m\n\u001b[1;32m    218\u001b[0m                     \u001b[0mself\u001b[0m\u001b[0;34m.\u001b[0m\u001b[0m_start_heartbeat\u001b[0m\u001b[0;34m(\u001b[0m\u001b[0;34m)\u001b[0m\u001b[0;34m\u001b[0m\u001b[0m\n\u001b[1;32m    219\u001b[0m                     \u001b[0mself\u001b[0m\u001b[0;34m.\u001b[0m\u001b[0m_execute_pre_run_hooks\u001b[0m\u001b[0;34m(\u001b[0m\u001b[0;34m)\u001b[0m\u001b[0;34m\u001b[0m\u001b[0m\n\u001b[0;32m--> 220\u001b[0;31m                     \u001b[0mself\u001b[0m\u001b[0;34m.\u001b[0m\u001b[0mresult\u001b[0m \u001b[0;34m=\u001b[0m \u001b[0mself\u001b[0m\u001b[0;34m.\u001b[0m\u001b[0mmain_function\u001b[0m\u001b[0;34m(\u001b[0m\u001b[0;34m*\u001b[0m\u001b[0margs\u001b[0m\u001b[0;34m)\u001b[0m\u001b[0;34m\u001b[0m\u001b[0m\n\u001b[0m\u001b[1;32m    221\u001b[0m                     \u001b[0mself\u001b[0m\u001b[0;34m.\u001b[0m\u001b[0m_execute_post_run_hooks\u001b[0m\u001b[0;34m(\u001b[0m\u001b[0;34m)\u001b[0m\u001b[0;34m\u001b[0m\u001b[0m\n\u001b[1;32m    222\u001b[0m                     \u001b[0;32mif\u001b[0m \u001b[0mself\u001b[0m\u001b[0;34m.\u001b[0m\u001b[0mresult\u001b[0m \u001b[0;32mis\u001b[0m \u001b[0;32mnot\u001b[0m \u001b[0;32mNone\u001b[0m\u001b[0;34m:\u001b[0m\u001b[0;34m\u001b[0m\u001b[0m\n",
      "\u001b[0;32m/Users/AnthonyAbercrombie/anaconda/envs/dl/lib/python3.6/site-packages/wrapt/wrappers.py\u001b[0m in \u001b[0;36m__call__\u001b[0;34m(self, *args, **kwargs)\u001b[0m\n\u001b[1;32m    520\u001b[0m \u001b[0;34m\u001b[0m\u001b[0m\n\u001b[1;32m    521\u001b[0m         return self._self_wrapper(self.__wrapped__, self._self_instance,\n\u001b[0;32m--> 522\u001b[0;31m                 args, kwargs)\n\u001b[0m\u001b[1;32m    523\u001b[0m \u001b[0;34m\u001b[0m\u001b[0m\n\u001b[1;32m    524\u001b[0m \u001b[0;32mclass\u001b[0m \u001b[0mBoundFunctionWrapper\u001b[0m\u001b[0;34m(\u001b[0m\u001b[0m_FunctionWrapperBase\u001b[0m\u001b[0;34m)\u001b[0m\u001b[0;34m:\u001b[0m\u001b[0;34m\u001b[0m\u001b[0m\n",
      "\u001b[0;32m/Users/AnthonyAbercrombie/anaconda/envs/dl/lib/python3.6/site-packages/sacred/config/captured_function.py\u001b[0m in \u001b[0;36mcaptured_function\u001b[0;34m(wrapped, instance, args, kwargs)\u001b[0m\n\u001b[1;32m     45\u001b[0m     \u001b[0mstart_time\u001b[0m \u001b[0;34m=\u001b[0m \u001b[0mtime\u001b[0m\u001b[0;34m.\u001b[0m\u001b[0mtime\u001b[0m\u001b[0;34m(\u001b[0m\u001b[0;34m)\u001b[0m\u001b[0;34m\u001b[0m\u001b[0m\n\u001b[1;32m     46\u001b[0m     \u001b[0;31m# =================== run actual function =================================\u001b[0m\u001b[0;34m\u001b[0m\u001b[0;34m\u001b[0m\u001b[0m\n\u001b[0;32m---> 47\u001b[0;31m     \u001b[0mresult\u001b[0m \u001b[0;34m=\u001b[0m \u001b[0mwrapped\u001b[0m\u001b[0;34m(\u001b[0m\u001b[0;34m*\u001b[0m\u001b[0margs\u001b[0m\u001b[0;34m,\u001b[0m \u001b[0;34m**\u001b[0m\u001b[0mkwargs\u001b[0m\u001b[0;34m)\u001b[0m\u001b[0;34m\u001b[0m\u001b[0m\n\u001b[0m\u001b[1;32m     48\u001b[0m     \u001b[0;31m# =========================================================================\u001b[0m\u001b[0;34m\u001b[0m\u001b[0;34m\u001b[0m\u001b[0m\n\u001b[1;32m     49\u001b[0m     \u001b[0mstop_time\u001b[0m \u001b[0;34m=\u001b[0m \u001b[0mtime\u001b[0m\u001b[0;34m.\u001b[0m\u001b[0mtime\u001b[0m\u001b[0;34m(\u001b[0m\u001b[0;34m)\u001b[0m\u001b[0;34m\u001b[0m\u001b[0m\n",
      "\u001b[0;32m/Users/AnthonyAbercrombie/PowerScout/PS_shading_model/src/model/run_experiment.py\u001b[0m in \u001b[0;36mmain\u001b[0;34m(_config, _run)\u001b[0m\n\u001b[1;32m     62\u001b[0m     \u001b[0mtrainer\u001b[0m\u001b[0;34m.\u001b[0m\u001b[0mbuild_model\u001b[0m\u001b[0;34m(\u001b[0m\u001b[0;34m)\u001b[0m\u001b[0;34m\u001b[0m\u001b[0m\n\u001b[1;32m     63\u001b[0m     \u001b[0mtrainer\u001b[0m\u001b[0;34m.\u001b[0m\u001b[0mcompile_model\u001b[0m\u001b[0;34m(\u001b[0m\u001b[0;34m)\u001b[0m\u001b[0;34m\u001b[0m\u001b[0m\n\u001b[0;32m---> 64\u001b[0;31m     \u001b[0mresult\u001b[0m \u001b[0;34m=\u001b[0m \u001b[0mtrainer\u001b[0m\u001b[0;34m.\u001b[0m\u001b[0mfit\u001b[0m\u001b[0;34m(\u001b[0m\u001b[0;34m)\u001b[0m\u001b[0;34m\u001b[0m\u001b[0m\n\u001b[0m\u001b[1;32m     65\u001b[0m \u001b[0;34m\u001b[0m\u001b[0m\n\u001b[1;32m     66\u001b[0m     \u001b[0;32mreturn\u001b[0m \u001b[0mresult\u001b[0m\u001b[0;34m\u001b[0m\u001b[0m\n",
      "\u001b[0;32m/Users/AnthonyAbercrombie/PowerScout/PS_shading_model/src/model/trainer.py\u001b[0m in \u001b[0;36mfit\u001b[0;34m(self)\u001b[0m\n\u001b[1;32m     97\u001b[0m \u001b[0;34m\u001b[0m\u001b[0m\n\u001b[1;32m     98\u001b[0m \u001b[0;34m\u001b[0m\u001b[0m\n\u001b[0;32m---> 99\u001b[0;31m         \u001b[0mvalues\u001b[0m \u001b[0;34m=\u001b[0m \u001b[0mhistory\u001b[0m\u001b[0;34m.\u001b[0m\u001b[0mhistory\u001b[0m\u001b[0;34m[\u001b[0m\u001b[0mself\u001b[0m\u001b[0;34m.\u001b[0m\u001b[0mC\u001b[0m\u001b[0;34m[\u001b[0m\u001b[0;34m'metric'\u001b[0m\u001b[0;34m]\u001b[0m\u001b[0;34m]\u001b[0m\u001b[0;34m\u001b[0m\u001b[0m\n\u001b[0m\u001b[1;32m    100\u001b[0m         \u001b[0mbest\u001b[0m \u001b[0;34m=\u001b[0m \u001b[0meval\u001b[0m\u001b[0;34m(\u001b[0m\u001b[0mself\u001b[0m\u001b[0;34m.\u001b[0m\u001b[0mC\u001b[0m\u001b[0;34m[\u001b[0m\u001b[0;34m'result_mode'\u001b[0m\u001b[0;34m]\u001b[0m\u001b[0;34m)\u001b[0m\u001b[0;34m\u001b[0m\u001b[0m\n\u001b[1;32m    101\u001b[0m \u001b[0;34m\u001b[0m\u001b[0m\n",
      "\u001b[0;31mKeyError\u001b[0m: 'f1'"
     ]
    }
   ],
   "source": [
    "from run_experiment import ex\n",
    "from sacred.observers import MongoObserver\n",
    "experiment_name = 'experiment5_architectures'\n",
    "mongo_observer = MongoObserver.create(db_name=experiment_name)\n",
    "ex.observers.append(mongo_observer)\n",
    "\n",
    "# trainer names refer to class objects stored in PROJ_ROOT/src/model/models.py script\n",
    "import keras.backend as K\n",
    "for trainer in ['MLPTrainer', 'MLRTrainer', 'CNNTrainer']:\n",
    "                'ResNet50_FeatureExtractor' \n",
    "                'ResNet50_FineTune_1skip',\n",
    "                'ResNet50_FineTune_2skip',\n",
    "                'ResNet50_FullTrain',\n",
    "                'ResNet50_FromScratch',\n",
    "                ]:\n",
    "    \n",
    "    # Parameter Dict\n",
    "    C = {'trainer': trainer,\n",
    "         'loss' : 'categorical_crossentropy',\n",
    "         'metric': 'f1',\n",
    "         'result_mode' : 'max',\n",
    "         'epochs' : 10,\n",
    "         'test_size' : 0,\n",
    "         'n_samples' : 10,\n",
    "         'optimizer' : 'nadam',\n",
    "         'test_size' : 0.33,\n",
    "         'PROJ_ROOT' : '/Users/AnthonyAbercrombie/PowerScout/PS_shading_model/'}\n",
    "    \n",
    "    # Name the model as a joined string of its parameters\n",
    "    name = '+'.join('{}={}'.format(key, value) for key, value in C.items())\n",
    "    # Exectues a Sacred Experiment with the parameter dict's values. \n",
    "    run = ex.run(config_updates=C, options={'--name': name})\n",
    "\n",
    "    # clear backend session.\n",
    "    K.clear_session()"
   ]
  },
  {
   "cell_type": "markdown",
   "metadata": {},
   "source": [
    "# View the Results\n",
    "\n",
    "Run the sacred experiments above and open a web browser to the SacredBoard port to leverage its visualization capabilities."
   ]
  },
  {
   "cell_type": "code",
   "execution_count": null,
   "metadata": {
    "collapsed": true
   },
   "outputs": [],
   "source": []
  },
  {
   "cell_type": "markdown",
   "metadata": {},
   "source": [
    "# Testing Scratchpad"
   ]
  },
  {
   "cell_type": "code",
   "execution_count": 39,
   "metadata": {
    "collapsed": false,
    "scrolled": true
   },
   "outputs": [
    {
     "name": "stderr",
     "output_type": "stream",
     "text": [
      "100%|██████████| 5/5 [00:00<00:00, 55.09it/s]\n"
     ]
    }
   ],
   "source": [
    "a, b, c = load_images_from_directory('/Users/AnthonyAbercrombie/PowerScout/PS_shading_model/data/satimages/shaded', 5)"
   ]
  },
  {
   "cell_type": "code",
   "execution_count": 33,
   "metadata": {
    "collapsed": true
   },
   "outputs": [],
   "source": [
    "fp = os.path.join('/Users/AnthonyAbercrombie/PowerScout/PS_shading_model/data/satimages/shaded', b[0])"
   ]
  },
  {
   "cell_type": "code",
   "execution_count": 53,
   "metadata": {
    "collapsed": true
   },
   "outputs": [],
   "source": [
    "np.argmax?"
   ]
  },
  {
   "cell_type": "code",
   "execution_count": 36,
   "metadata": {
    "collapsed": true
   },
   "outputs": [],
   "source": [
    "img = image.load_img(fp)"
   ]
  },
  {
   "cell_type": "code",
   "execution_count": 25,
   "metadata": {
    "collapsed": true
   },
   "outputs": [],
   "source": [
    "from keras.preprocessing import image"
   ]
  },
  {
   "cell_type": "code",
   "execution_count": null,
   "metadata": {
    "collapsed": true
   },
   "outputs": [],
   "source": []
  },
  {
   "cell_type": "code",
   "execution_count": 18,
   "metadata": {
    "collapsed": false
   },
   "outputs": [
    {
     "name": "stdout",
     "output_type": "stream",
     "text": [
      "+1116+POTRERO+AVE+SAN+FRANCISCO+CA+shaded.png\r\n",
      "+237+LEXINGTON+ST+WATERTOWN+MA.png\r\n",
      "+24+SYLVAN+DR+SAN+FRANCISCO+CA+shaded.png\r\n",
      "+248+GARDENSIDE+AVE+SOUTH+SAN+FRANCISCO+CA+shaded.png\r\n",
      "+29+DANA+RD+NORWELL+MA.png\r\n",
      "+32+GERARD+RD+NORWELL+MA.png\r\n",
      "+330+PIOCHE+ST+SAN+FRANCISCO+CA.png\r\n",
      "+36+FRANKLIN+RD+NORWELL+MA.png\r\n",
      "+36+GERARD+RD+NORWELL+MA.png\r\n",
      "+40+FARRAR+FARM+RD+NORWELL+MA.png\r\n",
      "+40+SOUTH+ST+NORWELL+MA.png\r\n",
      "+46+PRISCILLA+ALDEN+RD+ABINGTON+MA.png\r\n",
      "+52+FRANKLIN+RD+NORWELL+MA.png\r\n",
      "+55+FRANKLIN+RD+NORWELL+MA.png\r\n",
      "+56+GERARD+RD+NORWELL+MA.png\r\n",
      "+687+SUMMER+ST+ABINGTON+MA.png\r\n",
      "+69+BADGER+ST+SAN+FRANCISCO+CA+shaded.png\r\n",
      "+76+GERARD+RD+NORWELL+MA.png\r\n",
      "+81+RIDGE+HILL+RD+NORWELL+MA.png\r\n",
      "+86+COTTER+ST+SAN+FRANCISCO+CA.png\r\n",
      "+87+RIDGE+HILL+RD+NORWELL+MA.png\r\n",
      "+90+CAPTAIN+STANDISH+DR+ABINGTON+MA.png\r\n",
      "+94+ROCKWOOD+CT+SAN+FRANCISCO+CA.png\r\n"
     ]
    }
   ],
   "source": [
    "!ls /Users/AnthonyAbercrombie/PowerScout/PS_shading_model/data/satimages/shaded/"
   ]
  },
  {
   "cell_type": "code",
   "execution_count": null,
   "metadata": {
    "collapsed": true
   },
   "outputs": [],
   "source": []
  },
  {
   "cell_type": "code",
   "execution_count": null,
   "metadata": {
    "collapsed": true
   },
   "outputs": [],
   "source": []
  },
  {
   "cell_type": "code",
   "execution_count": 2,
   "metadata": {
    "collapsed": false
   },
   "outputs": [
    {
     "name": "stdout",
     "output_type": "stream",
     "text": [
      "\u001b[34maverage\u001b[m\u001b[m               \u001b[34mma\u001b[m\u001b[m                    \u001b[34mshaded\u001b[m\u001b[m\r\n",
      "\u001b[34mca\u001b[m\u001b[m                    missing_addresses.txt \u001b[34msunny\u001b[m\u001b[m\r\n"
     ]
    }
   ],
   "source": [
    "!ls ../data/satimages/"
   ]
  },
  {
   "cell_type": "markdown",
   "metadata": {},
   "source": [
    "\n",
    "```bash\n",
    "$ aws s3 cp threshold30_shaded.zip s3://powerscout-labeled-satimages/\n",
    "$ aws s3 cp threshold30_sunny.zip s3://powerscout-labeled-satimages/\n",
    "    \n",
    "$ aws s3 cp threshold10_shaded.zip s3://powerscout-labeled-satimages/\n",
    "$ aws s3 cp threshold10_sunny.zip s3://powerscout-labeled-satimages/\n",
    "```"
   ]
  },
  {
   "cell_type": "code",
   "execution_count": null,
   "metadata": {
    "collapsed": true
   },
   "outputs": [],
   "source": []
  }
 ],
 "metadata": {
  "kernelspec": {
   "display_name": "Python 3",
   "language": "python",
   "name": "python3"
  },
  "language_info": {
   "codemirror_mode": {
    "name": "ipython",
    "version": 3
   },
   "file_extension": ".py",
   "mimetype": "text/x-python",
   "name": "python",
   "nbconvert_exporter": "python",
   "pygments_lexer": "ipython3",
   "version": "3.5.2"
  }
 },
 "nbformat": 4,
 "nbformat_minor": 1
}
